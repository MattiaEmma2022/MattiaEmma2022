{
  "nbformat": 4,
  "nbformat_minor": 0,
  "metadata": {
    "colab": {
      "provenance": [],
      "authorship_tag": "ABX9TyPX1ffcTxcO9OQ7aq+KuNc2",
      "include_colab_link": true
    },
    "kernelspec": {
      "name": "python3",
      "display_name": "Python 3"
    },
    "language_info": {
      "name": "python"
    }
  },
  "cells": [
    {
      "cell_type": "markdown",
      "metadata": {
        "id": "view-in-github",
        "colab_type": "text"
      },
      "source": [
        "<a href=\"https://colab.research.google.com/github/MattiaEmma2022/MattiaEmma2022/blob/main/Important_sampling.ipynb\" target=\"_parent\"><img src=\"https://colab.research.google.com/assets/colab-badge.svg\" alt=\"Open In Colab\"/></a>"
      ]
    },
    {
      "cell_type": "code",
      "execution_count": 1,
      "metadata": {
        "colab": {
          "base_uri": "https://localhost:8080/"
        },
        "id": "_KFT3OL_pPZK",
        "outputId": "dfa8354a-6010-4988-f46c-101b7eab4daa"
      },
      "outputs": [
        {
          "output_type": "stream",
          "name": "stdout",
          "text": [
            "\u001b[2K     \u001b[90m━━━━━━━━━━━━━━━━━━━━━━━━━━━━━━━━━━━━━━━━\u001b[0m \u001b[32m2.2/2.2 MB\u001b[0m \u001b[31m19.4 MB/s\u001b[0m eta \u001b[36m0:00:00\u001b[0m\n",
            "\u001b[2K     \u001b[90m━━━━━━━━━━━━━━━━━━━━━━━━━━━━━━━━━━━━━━━━\u001b[0m \u001b[32m11.8/11.8 MB\u001b[0m \u001b[31m38.7 MB/s\u001b[0m eta \u001b[36m0:00:00\u001b[0m\n",
            "\u001b[2K     \u001b[90m━━━━━━━━━━━━━━━━━━━━━━━━━━━━━━━━━━━━━━━\u001b[0m \u001b[32m105.7/105.7 kB\u001b[0m \u001b[31m6.8 MB/s\u001b[0m eta \u001b[36m0:00:00\u001b[0m\n",
            "\u001b[2K     \u001b[90m━━━━━━━━━━━━━━━━━━━━━━━━━━━━━━━━━━━━━━━\u001b[0m \u001b[32m110.5/110.5 kB\u001b[0m \u001b[31m5.2 MB/s\u001b[0m eta \u001b[36m0:00:00\u001b[0m\n",
            "\u001b[2K     \u001b[90m━━━━━━━━━━━━━━━━━━━━━━━━━━━━━━━━━━━━━━\u001b[0m \u001b[32m833.0/833.0 kB\u001b[0m \u001b[31m14.6 MB/s\u001b[0m eta \u001b[36m0:00:00\u001b[0m\n",
            "\u001b[2K     \u001b[90m━━━━━━━━━━━━━━━━━━━━━━━━━━━━━━━━━━━━━━━━\u001b[0m \u001b[32m46.2/46.2 kB\u001b[0m \u001b[31m2.0 MB/s\u001b[0m eta \u001b[36m0:00:00\u001b[0m\n",
            "\u001b[?25h"
          ]
        }
      ],
      "source": [
        "# -- Use the following line in Google Colab deleting the hash\n",
        "! pip install -q bilby==2.0.1 matplotlib==3.6.0 dynesty==2.1.0 corner==2.2.1"
      ]
    },
    {
      "cell_type": "code",
      "source": [
        "%matplotlib inline\n",
        "import numpy as np\n",
        "import matplotlib\n",
        "import matplotlib.pyplot as plt\n",
        "import bilby\n",
        "import corner\n",
        "import pickle\n",
        "import scipy.stats"
      ],
      "metadata": {
        "id": "hizCEmojpaYP"
      },
      "execution_count": 3,
      "outputs": []
    },
    {
      "cell_type": "markdown",
      "source": [
        "Define the important functions to include in the routine for the sampler:"
      ],
      "metadata": {
        "id": "rCNptC2tr09s"
      }
    },
    {
      "cell_type": "code",
      "source": [
        "\n",
        "def model_Ms(time, freq, alpha):\n",
        "    return np.exp(-(time/alpha)**2) * np.sin(2 * np.pi * freq * time)\n",
        "\n",
        "def log_likelihood_Ms(time, yobs, freq, alpha, sigma=0.1):\n",
        "    prediction = model_Ms(time, freq, alpha)\n",
        "    res = yobs - prediction \n",
        "    logl = -0.5 * ((res/sigma)**2) + np.log(2 * np.pi * sigma**2)\n",
        "    # Sum over all log_likelihoods (axis=0)\n",
        "    return np.sum(logl, axis=0)    \n",
        "def create_data(time,freq,alpha,sigma):\n",
        "  yobs_new=model_Ms(time, freq, alpha)\n",
        "  noise=np.random.normal(0,sigma,np.size(time))\n",
        "  yobs=yobs_new+noise\n",
        "  return yobs"
      ],
      "metadata": {
        "id": "k3LvATHIpeTA"
      },
      "execution_count": 4,
      "outputs": []
    },
    {
      "cell_type": "code",
      "source": [
        "def log_prior_Ms(freq, alpha):\n",
        "    \"\"\" Calculate the log prior under the Ms model\n",
        "    \n",
        "    Parameters\n",
        "    ----------\n",
        "    freq: array or float\n",
        "        The frequency at which to calculate the prior\n",
        "    alpha: array or float\n",
        "        The alpha at which to calculate the prior\n",
        "        \n",
        "    Returns\n",
        "    -------\n",
        "    log_prior: array\n",
        "        The log_prior calculated for all freq, alpha samples\n",
        "    \"\"\"\n",
        "    # Convert freq, alpha to numpy arrays\n",
        "    freq = np.atleast_1d(freq)\n",
        "    alpha = np.atleast_1d(alpha)\n",
        "    \n",
        "    # Apply Uniform priors: calculate idxs of array where f, alpha in range\n",
        "    f_min = 0\n",
        "    f_max = 5\n",
        "    f_idxs = (freq > f_min) * (freq < f_max)\n",
        "    \n",
        "    alpha_min = 0\n",
        "    alpha_max = 1\n",
        "    alpha_idxs = (alpha > alpha_min) * (alpha < alpha_max)\n",
        "    \n",
        "    idxs = alpha_idxs * f_idxs\n",
        "    \n",
        "    log_prior_volume = np.log(1/(f_max - f_min) * (1 / (alpha_max - alpha_min)))\n",
        "    \n",
        "    log_prior = np.zeros_like(freq)\n",
        "    log_prior[idxs] = log_prior_volume\n",
        "    log_prior[~idxs] = -np.inf\n",
        "    return log_prior"
      ],
      "metadata": {
        "id": "-7QDN4UEpx-g"
      },
      "execution_count": 5,
      "outputs": []
    },
    {
      "cell_type": "markdown",
      "source": [
        "Sampler routine:"
      ],
      "metadata": {
        "id": "xDYj6zvRr75U"
      }
    },
    {
      "cell_type": "code",
      "source": [
        "def routine(time,freq,alpha,N):\n",
        "  yobs=create_data(time,freq,alpha,0.2)\n",
        "  # Draw 10000 samples \n",
        "  freq_samples = np.random.normal(freq,0.06,N)\n",
        "  alpha_samples = np.random.normal(alpha,0.01,N)\n",
        "\n",
        "  #Make time a 2D array to enable broadcasting across the samples\n",
        "  time_array = time[:, np.newaxis]\n",
        "  yobs_array = yobs[:, np.newaxis]\n",
        "  # Calculate the log_likelihood and log_prior for all samples\n",
        "  log_likelihood_vals = log_likelihood_Ms(time_array, yobs_array, freq_samples, alpha_samples)\n",
        "  log_prior_vals = log_prior_Ms(freq_samples, alpha_samples)\n",
        "  log_posterior_vals = log_likelihood_vals + log_prior_vals\n",
        "\n",
        "  # Calculate the weights\n",
        "  weights = np.exp(log_posterior_vals)\n",
        "  # Normalise the weights\n",
        "  weights = weights / max(weights)\n",
        "\n",
        "  # Rejection sample\n",
        "  keep = weights > np.random.uniform(0, 1, weights.shape)\n",
        "  alpha_samples_final = alpha_samples[keep]\n",
        "  freq_samples_final = freq_samples[keep]\n",
        "  samples = np.array([freq_samples_final,alpha_samples_final]).T\n",
        "  return samples"
      ],
      "metadata": {
        "id": "Pw2cPF56qAMg"
      },
      "execution_count": 16,
      "outputs": []
    },
    {
      "cell_type": "code",
      "source": [
        "#Start routine and run few times\n",
        "iterations=100 #int(input(\"How many iterations of the sampling routine do you need?\"))\n",
        "N=100000 #int(input(\"How many samples do you want for each iteration?\"))\n",
        "results=[]\n",
        "time=np.linspace(-2,2,100)\n",
        "for i in range(iterations):\n",
        "   result=dict()\n",
        "   freq=np.random.uniform(0,5)\n",
        "   alpha=np.random.uniform(0,1)\n",
        "   result['data']=[freq, alpha]\n",
        "   result['posterior']=routine(time,freq,alpha,N)\n",
        "   result['efficiency']=len(result['posterior'])/N\n",
        "   results.append(result)  \n",
        "#Pickle file\n",
        "filename=\"Samples.pickle\"\n",
        "with open(filename, \"wb\") as f:\n",
        "  pickle.dump(results,f)"
      ],
      "metadata": {
        "id": "PZFlUCl6qF7G"
      },
      "execution_count": 20,
      "outputs": []
    },
    {
      "cell_type": "code",
      "source": [
        "with open(filename, \"rb\") as f:\n",
        "  loaded_samples=pickle.load(f) "
      ],
      "metadata": {
        "id": "kVyV5miJqa4x"
      },
      "execution_count": 18,
      "outputs": []
    },
    {
      "cell_type": "code",
      "source": [
        "x=np.linspace(0,1,10)\n",
        "labels=['frequency','alpha']\n",
        "for i,label in enumerate(labels):\n",
        "  y=[]\n",
        "  for percentile in x:\n",
        "    inside=0\n",
        "    low=0.5-percentile/2\n",
        "    high=0.5+percentile/2\n",
        "    for result in loaded_samples:\n",
        "      data=result['data']\n",
        "      posterior=result['posterior']\n",
        "      if data[i]>np.quantile(posterior,low) and data[i]<np.quantile(posterior,high):\n",
        "        inside+=1\n",
        "    y.append(inside/len(loaded_samples))    \n",
        "  pvalue=scipy.stats.kstest(y,'uniform').pvalue  \n",
        "  plt.plot(x,y,label=label+'('+ str(pvalue)+ ')')\n",
        "  plt.xlabel('Percentile')  \n",
        "  plt.ylabel('Probability')\n",
        "  plt.title('P-value')\n",
        "  print(scipy.stats.kstest(y,'uniform').pvalue)\n",
        "plt.legend()    "
      ],
      "metadata": {
        "colab": {
          "base_uri": "https://localhost:8080/",
          "height": 524
        },
        "id": "iNDquPi1qjMd",
        "outputId": "b5e395ce-a6e7-47aa-fc32-17379b970997"
      },
      "execution_count": 38,
      "outputs": [
        {
          "output_type": "stream",
          "name": "stdout",
          "text": [
            "0.64254440170734\n",
            "0.95396527\n"
          ]
        },
        {
          "output_type": "execute_result",
          "data": {
            "text/plain": [
              "<matplotlib.legend.Legend at 0x7ffb279489d0>"
            ]
          },
          "metadata": {},
          "execution_count": 38
        },
        {
          "output_type": "display_data",
          "data": {
            "text/plain": [
              "<Figure size 640x480 with 1 Axes>"
            ],
            "image/png": "[encoded data removed]"
          },
          "metadata": {}
        }
      ]
    }
  ]
}